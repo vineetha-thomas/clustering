{
 "cells": [
  {
   "cell_type": "code",
   "execution_count": 3,
   "metadata": {},
   "outputs": [],
   "source": [
    "# always import\n",
    "import sys\n",
    "from time import time\n",
    "\n",
    "# numpy & scipy\n",
    "import numpy as np\n",
    "import scipy\n",
    "\n",
    "# sklearn\n",
    "from sklearn.cluster import KMeans\n",
    "from sklearn.decomposition import PCA\n",
    "from sklearn.preprocessing import scale\n",
    "from sklearn import metrics\n",
    "from sklearn.metrics import confusion_matrix\n",
    "from sklearn.metrics import pairwise_distances_argmin, pairwise_distances\n",
    "from sklearn import neighbors\n",
    "\n",
    "# Hungarian algorithm\n",
    "from munkres import Munkres\n",
    "from scipy.optimize import linear_sum_assignment\n",
    "\n",
    "# visuals\n",
    "import matplotlib.pyplot as plt\n",
    "from matplotlib import offsetbox\n",
    "from sklearn.manifold import Isomap, TSNE\n",
    "\n",
    "# maybe\n",
    "from numba import jit\n",
    "\n",
    "import scipy.sparse as sparse\n"
   ]
  },
  {
   "cell_type": "code",
   "execution_count": 4,
   "metadata": {},
   "outputs": [],
   "source": [
    "# load MNIST data and normalization\n",
    "from sklearn.datasets import fetch_openml\n",
    "X, y = fetch_openml('mnist_784', version=1, return_X_y=True, data_home='mnist/')\n",
    "y = np.asarray(list(map(int, y)))\n",
    "X = np.asarray(X.astype(float))\n",
    "X = scale(X)\n",
    "n_digits = len(np.unique(y))\n",
    "\n",
    "y_bk = y.copy()"
   ]
  },
  {
   "cell_type": "code",
   "execution_count": 5,
   "metadata": {},
   "outputs": [],
   "source": [
    "def Kmeans(X,K,max_iter=300,t=0.001, Cinit = 'random'):\n",
    "    \n",
    "    num_iter = 0;\n",
    "    z = np.zeros(X.shape[0], dtype=int)\n",
    "    J=0\n",
    "    Jprev = 0\n",
    "    \n",
    "    if(Cinit == 'random'):\n",
    "        C = X[np.random.randint(X.shape[0], size=K)]  \n",
    "    elif(Cinit == 'PCAcomponents'):\n",
    "        pca  = PCA()\n",
    "        pca.fit(X)\n",
    "        C = pca.components_[0:K,:]\n",
    "        print(\"C.shape:\", C.shape)\n",
    "    \n",
    "    while(num_iter<max_iter):\n",
    "        num_iter +=1\n",
    "        C_next = np.zeros(C.shape)\n",
    "        C_next_cnt = np.zeros(C.shape[0])\n",
    "        for i in range(X.shape[0]):\n",
    "            temp = np.array([X[i]]*C.shape[0])\n",
    "            temp = temp-C\n",
    "            temp = np.multiply(temp,temp)\n",
    "            s = np.sum(temp, axis=1)\n",
    "            z[i] = int(np.argmin(s))\n",
    "            C_next[z[i]] += X[i]\n",
    "            C_next_cnt[z[i]] +=1\n",
    "        \n",
    "        C_next = C_next/np.array([C_next_cnt]).T \n",
    "        C = C_next.copy()\n",
    "        \n",
    "        J=0\n",
    "        for i in range(X.shape[0]):\n",
    "            x = X[i]\n",
    "            c = C[z[i]]\n",
    "            J += np.dot(x-c,x-c)\n",
    "        \n",
    "        #print(\"Iteration \"+ str(num_iter) +\":\" + \"J=\" + str(J))\n",
    "        #print(\"Jprev = \", Jprev)\n",
    "        if(abs(Jprev - J)< t):\n",
    "            break\n",
    "        Jprev = J\n",
    "    \n",
    "    print(\"Final J=\", J)\n",
    "    return z,C,J\n"
   ]
  },
  {
   "cell_type": "code",
   "execution_count": 17,
   "metadata": {},
   "outputs": [
    {
     "name": "stdout",
     "output_type": "stream",
     "text": [
      "C.shape: (10, 784)\n",
      "Final J= 42569872.58080556\n",
      "Objective =  42569872.58080556\n",
      "Homogenity Score = 0.4198052752753\n",
      "Completeness Score = 0.4417562572279014\n",
      "V measure Score = 0.43050113119913763\n",
      "Adjusted rand Score = 0.3202170656393889\n",
      "Adjusted Mutual Info = 0.4196593043615676\n"
     ]
    },
    {
     "name": "stderr",
     "output_type": "stream",
     "text": [
      "C:\\Users\\vinee\\Anaconda3\\lib\\site-packages\\sklearn\\metrics\\cluster\\supervised.py:746: FutureWarning: The behavior of AMI will change in version 0.22. To match the behavior of 'v_measure_score', AMI will use average_method='arithmetic' by default.\n",
      "  FutureWarning)\n"
     ]
    }
   ],
   "source": [
    "#2a-i\n",
    "z,Co,J = Kmeans(X,K=10,max_iter=300,t=0.001, Cinit = 'PCAcomponents')\n",
    "z1 = z.copy()\n",
    "\n",
    "print(\"Objective = \", J)\n",
    "\n",
    "m1 = metrics.homogeneity_score(y,z)\n",
    "print(\"Homogenity Score =\", m1)\n",
    "\n",
    "m2 = metrics.completeness_score(y,z)\n",
    "print(\"Completeness Score =\", m2)\n",
    "\n",
    "m3 = metrics.v_measure_score(y,z)\n",
    "print(\"V measure Score =\", m3)\n",
    "\n",
    "m4 = metrics.adjusted_rand_score(y,z)\n",
    "print(\"Adjusted rand Score =\", m4)\n",
    "\n",
    "m5 = metrics.adjusted_mutual_info_score(y,z)\n",
    "print(\"Adjusted Mutual Info =\", m5)"
   ]
  },
  {
   "cell_type": "code",
   "execution_count": 6,
   "metadata": {},
   "outputs": [],
   "source": [
    "#2a-ii\n",
    "def Kmeans_multipleTries(X,K, num_tries):\n",
    "    bestJ = float('inf')\n",
    "    bestz = np.zeros(X.shape[0], dtype=int)\n",
    "    bestCo = np.zeros((X.shape[0],K))\n",
    "    \n",
    "    for trial in range(num_tries):\n",
    "        z,Co,finalJ = Kmeans(X,K,max_iter=300,t=0.001, Cinit = 'random')\n",
    "        if(finalJ < bestJ):\n",
    "            bestJ = finalJ\n",
    "            bestz = z.copy()\n",
    "            bestCo = Co.copy()\n",
    "            \n",
    "    return bestz, bestCo, bestJ"
   ]
  },
  {
   "cell_type": "code",
   "execution_count": 77,
   "metadata": {},
   "outputs": [
    {
     "name": "stdout",
     "output_type": "stream",
     "text": [
      "Final J= 15075079.049295807\n",
      "Final J= 15012221.894483838\n",
      "Final J= 15012217.349797744\n",
      "Final J= 15075529.50290776\n",
      "Final J= 15078750.711568555\n",
      "Final J= 15012690.732292935\n",
      "Final J= 15012230.465892917\n",
      "Final J= 15012214.326240761\n",
      "Final J= 15078895.571706085\n",
      "Final J= 15077719.141220408\n",
      "Best objective =  15012214.326240761\n",
      "Homogenity Score = 0.4220445033066962\n",
      "Completeness Score = 0.44380726213297633\n",
      "V measure Score = 0.4326523845931157\n",
      "Adjusted rand Score = 0.32189754467354037\n",
      "Adjusted Mutual Info = 0.4218990968210131\n"
     ]
    },
    {
     "name": "stderr",
     "output_type": "stream",
     "text": [
      "C:\\Users\\vinee\\Anaconda3\\lib\\site-packages\\sklearn\\metrics\\cluster\\supervised.py:746: FutureWarning: The behavior of AMI will change in version 0.22. To match the behavior of 'v_measure_score', AMI will use average_method='arithmetic' by default.\n",
      "  FutureWarning)\n"
     ]
    }
   ],
   "source": [
    "\n",
    "    \n",
    "\n",
    "#2a-ii\n",
    "pca  = PCA(n_components=30)\n",
    "pca.fit(X)  \n",
    "Xdash = pca.transform(X)\n",
    "\n",
    "bestz, bestCo, bestJ = Kmeans_multipleTries(Xdash,K=10, num_tries=10)\n",
    "\n",
    "       \n",
    "print(\"Best objective = \", bestJ)  \n",
    "z2 = bestz.copy()\n",
    "\n",
    "m1 = metrics.homogeneity_score(y,bestz)    \n",
    "print(\"Homogenity Score =\", m1)\n",
    "\n",
    "m2 = metrics.completeness_score(y,bestz)\n",
    "print(\"Completeness Score =\", m2)\n",
    "\n",
    "m3 = metrics.v_measure_score(y,bestz)\n",
    "print(\"V measure Score =\", m3)\n",
    "\n",
    "m4 = metrics.adjusted_rand_score(y,bestz)\n",
    "print(\"Adjusted rand Score =\", m4)\n",
    "\n",
    "m5 = metrics.adjusted_mutual_info_score(y,bestz)\n",
    "print(\"Adjusted Mutual Info =\", m5)   "
   ]
  },
  {
   "cell_type": "code",
   "execution_count": 7,
   "metadata": {},
   "outputs": [],
   "source": [
    "# TODO: Hungarian algorithm\n",
    "\n",
    "#2b Hungarian\n",
    "def hungarian(z,y,K):\n",
    "    \"\"\"\n",
    "    z = label o/p from clustering\n",
    "    k = number of labels\n",
    "    \n",
    "    returns:\n",
    "        col_ind - mapping\n",
    "        zdash - mapped z's\n",
    "    \"\"\"\n",
    "    W = np.zeros((K,K))\n",
    "    n = z.shape[0]\n",
    "    for i in range(K): #z\n",
    "        zi = np.array([k for k, x in enumerate(z) if x == i])\n",
    "        for j in range(K): #y\n",
    "            yj = np.array([l for l, x in enumerate(y) if x == j])\n",
    "            common = list(set(zi).intersection(yj))\n",
    "            W[i,j] = 1- len(common)/n\n",
    "            \n",
    "    minimum = W.min(axis=1)\n",
    "    minimum = np.array([minimum]*K).T\n",
    "    W = W-minimum\n",
    "    row_ind, col_ind = scipy.optimize.linear_sum_assignment(W)\n",
    "    \n",
    "    #compute zdash\n",
    "    zdash = np.zeros(z.shape, dtype=int)\n",
    "    for i in range(z.shape[0]):  \n",
    "        zdash[i] = col_ind[z[i]]\n",
    "                \n",
    "    return col_ind, zdash\n",
    "\n"
   ]
  },
  {
   "cell_type": "code",
   "execution_count": 8,
   "metadata": {},
   "outputs": [],
   "source": [
    "def accuracy(prediction,y):\n",
    "    correct = 0\n",
    "    for j in range(len(y)):\n",
    "        if(prediction[j]==y[j]):\n",
    "            correct +=1\n",
    "    prec_test = correct/len(prediction) \n",
    "    return prec_test"
   ]
  },
  {
   "cell_type": "code",
   "execution_count": 70,
   "metadata": {},
   "outputs": [
    {
     "name": "stdout",
     "output_type": "stream",
     "text": [
      "Mapping: [0 9 2 6 1 3 8 7 5 4]\n",
      "Confusion Matrix:\n",
      "[[3819   36  113 1402   12  520  355    6  630   10]\n",
      " [   0 7644   13   26    8  154   16    5   10    1]\n",
      " [  37  823 2387  717  191   69  853   32 1840   41]\n",
      " [   9  573  746 4087  204   99   87   97 1134  105]\n",
      " [  55  535   73    5 3969  934  128  754   28  343]\n",
      " [  31  465  247 2161  311 2669  102   88  176   63]\n",
      " [ 291  566  416  113   28  119 5323    1   14    5]\n",
      " [  20  516   16    9 1581  137    3 4082   13  916]\n",
      " [  44 1175  206 2627  358 2031   32  189   90   73]\n",
      " [  44  332   23  124 3485  124    5 2374   16  431]]\n",
      "Accuracy =  0.49287142857142857\n"
     ]
    }
   ],
   "source": [
    "#2b\n",
    "#Using z1 from 2a-i\n",
    "col_ind, zdash = hungarian(z1,y,K)\n",
    "conf_matrix = confusion_matrix(y,zdash)\n",
    "acc = accuracy(zdash,y)\n",
    "\n",
    "print(\"Mapping:\", col_ind)\n",
    "print(\"Confusion Matrix:\")\n",
    "print(conf_matrix)\n",
    "print(\"Accuracy = \", acc)"
   ]
  },
  {
   "cell_type": "code",
   "execution_count": 84,
   "metadata": {},
   "outputs": [
    {
     "name": "stdout",
     "output_type": "stream",
     "text": [
      "Mapping: [8 5 0 7 2 4 9 6 1 3]\n",
      "Confusion Matrix:\n",
      "[[3970   35   83  930   22  662  767    7  414   13]\n",
      " [   0 7621   13   29    5  173   16    7   12    1]\n",
      " [  42  842 2583  773  163   94  677   44 1717   55]\n",
      " [  10  679  220 4443  185  156   97   92 1138  121]\n",
      " [  52  543   49    3 3928  906  156  688   24  475]\n",
      " [  36  533  128 2058  328 2794  129   71  157   79]\n",
      " [ 239  505  773   54   37  133 5119    1    9    6]\n",
      " [  20  544    7   13 1585  117    3 4080   18  906]\n",
      " [  48 1341   96 2221  399 2300   52  184   78  106]\n",
      " [  41  359   15  105 3490  120    6 2291   14  517]]\n",
      "Accuracy =  0.5019\n"
     ]
    }
   ],
   "source": [
    "#Using z2 from 2a-ii\n",
    "col_ind, zdash = hungarian(z2,y,K)\n",
    "conf_matrix = confusion_matrix(y,zdash)\n",
    "acc = accuracy(zdash,y)\n",
    "\n",
    "\n",
    "print(\"Mapping:\", col_ind)\n",
    "print(\"Confusion Matrix:\")\n",
    "print(conf_matrix)\n",
    "print(\"Accuracy = \", acc)"
   ]
  },
  {
   "cell_type": "code",
   "execution_count": 20,
   "metadata": {},
   "outputs": [],
   "source": [
    "# TODO: Spectral clustering\n",
    "def SpectralClustering(X,K=10, n_neighbours=500, k=20):\n",
    "    \"\"\"\n",
    "    X: The input data \n",
    "    K: K for Kmeans (num_clusters)\n",
    "    n_neighbours:  for teh nearest neighbour\n",
    "    k: Choose k smallest eigen values\n",
    "    \n",
    "    Returns:\n",
    "    best_z, best_Co, best_obj\n",
    "    \"\"\"\n",
    "\n",
    "    #Compute H from nearest neighbour graph\n",
    "    nn = neighbors.NearestNeighbors(n_neighbors=500,algorithm='kd_tree',metric='euclidean')\n",
    "    H = nn.fit(X).kneighbors_graph(mode = 'distance') #H is parse\n",
    "\n",
    "    #Compute sigma\n",
    "    sigma = H.sum()/H.count_nonzero() #10.815\n",
    "    print(\"sigma=\", sigma)\n",
    "    E = H.power(2)\n",
    "    E = E/(sigma*sigma) #sparse\n",
    "\n",
    "    #Compute E \n",
    "    E.data = np.exp(-(0.02*E.data))\n",
    "\n",
    "    #Normalise E  \n",
    "    #S = sparse.csr_matrix(1/E.sum(axis=1))\n",
    "    #E = E.multiply(S)\n",
    "\n",
    "    np.divide(E.data, E.sum(), out=E.data)\n",
    "    E.setdiag(1.0)\n",
    "\n",
    "    #Make E symmetric\n",
    "    E  = (E+E.transpose())/2\n",
    "\n",
    "    #Compute D\n",
    "    e = np.array(E.sum(axis=1)).reshape(1,-1)[0]\n",
    "    e2 = np.power(e,-0.5)\n",
    "    D = sparse.diags(e)\n",
    "    D2 = sparse.diags(e2)\n",
    "\n",
    "    #Compute L\n",
    "    n = X.shape[0]\n",
    "    L = sparse.identity(n) - D2@E@D2\n",
    "    e_val, e_vec = sparse.linalg.eigs(L, k, which='SM')\n",
    "    print(\"eigen values:\", e_val)\n",
    "\n",
    "    e_vec = np.delete(e_vec,0,1)\n",
    "    #e_vec = np.delete(e_vec,0,1)\n",
    "\n",
    "    #Calculate U\n",
    "    U = e_vec/np.linalg.norm(e_vec, axis=1).reshape(-1,1)\n",
    "\n",
    "    #Run k-means 10 times and choose the best\n",
    "    best_obj = float('inf')\n",
    "    best_z = np.zeros(X.shape[0], dtype=int)\n",
    "    best_Co = np.zeros((X.shape[0],10))\n",
    "\n",
    "    for trial in range(10):\n",
    "        kmeans = KMeans(init='k-means++', n_clusters=K, n_init=10).fit(np.real(U))\n",
    "        print(\"K Means Trial\" + str(trial) + \": Objective=\" + str(kmeans.inertia_) + \", max_iter=\" + str(kmeans.max_iter))\n",
    "        if(kmeans.inertia_ < best_obj):\n",
    "            best_obj = kmeans.inertia_\n",
    "            best_z = kmeans.labels_.copy()\n",
    "            best_Co = kmeans.cluster_centers_.copy()\n",
    "            \n",
    "    return best_z, best_Co, best_obj,U"
   ]
  },
  {
   "cell_type": "code",
   "execution_count": 21,
   "metadata": {},
   "outputs": [
    {
     "name": "stdout",
     "output_type": "stream",
     "text": [
      "sigma= 10.827380619841561\n"
     ]
    },
    {
     "name": "stderr",
     "output_type": "stream",
     "text": [
      "C:\\Users\\vinee\\Anaconda3\\lib\\site-packages\\scipy\\sparse\\_index.py:126: SparseEfficiencyWarning: Changing the sparsity structure of a csr_matrix is expensive. lil_matrix is more efficient.\n",
      "  self._set_arrayXarray(i, j, x)\n"
     ]
    },
    {
     "name": "stdout",
     "output_type": "stream",
     "text": [
      "eigen values: [-6.72067704e-19+0.j  4.39544059e-07+0.j  5.01670092e-07+0.j\n",
      "  7.32078723e-07+0.j  7.82265832e-07+0.j  8.24910419e-07+0.j\n",
      "  9.34366477e-07+0.j  1.09760248e-06+0.j  1.19642650e-06+0.j\n",
      "  1.29473680e-06+0.j  1.37233893e-06+0.j  1.47307052e-06+0.j\n",
      "  1.54284439e-06+0.j  1.62902265e-06+0.j  1.66207008e-06+0.j\n",
      "  1.69542867e-06+0.j  1.86734265e-06+0.j  2.07265437e-06+0.j\n",
      "  2.28667818e-06+0.j  2.37483503e-06+0.j]\n",
      "K Means Trial0: Objective=33680.35868110175, max_iter=300\n",
      "K Means Trial1: Objective=33676.75185949395, max_iter=300\n",
      "K Means Trial2: Objective=33573.60970068055, max_iter=300\n",
      "K Means Trial3: Objective=33476.69318049917, max_iter=300\n",
      "K Means Trial4: Objective=33459.82939039365, max_iter=300\n",
      "K Means Trial5: Objective=33646.40854171446, max_iter=300\n",
      "K Means Trial6: Objective=33476.707363003356, max_iter=300\n",
      "K Means Trial7: Objective=33573.61189085531, max_iter=300\n",
      "K Means Trial8: Objective=33476.69318049917, max_iter=300\n",
      "K Means Trial9: Objective=33573.62493210252, max_iter=300\n"
     ]
    }
   ],
   "source": [
    "#2c\n",
    "\n",
    "pca  = PCA(n_components=30)\n",
    "pca.fit(X)  \n",
    "X1dash = pca.transform(X)\n",
    "\n",
    "best_z, best_Co, best_obj,U = SpectralClustering(X1dash,K=10, n_neighbours=500, k=20)\n",
    "\n"
   ]
  },
  {
   "cell_type": "code",
   "execution_count": 22,
   "metadata": {},
   "outputs": [
    {
     "name": "stdout",
     "output_type": "stream",
     "text": [
      "Mapping: [4 2 3 6 9 5 0 1 8 7]\n",
      "Confusion Matrix:\n",
      "[[4427    1    9   34    5 2336   43    3   40    5]\n",
      " [   1 3524   30   14    9 4254   21    2   14    8]\n",
      " [  83   41 5769  258   17  402   40   68  286   26]\n",
      " [  20  110  102 5136   21 1030   17   89  525   91]\n",
      " [   3   64   56   20 3248  552   35   16    4 2826]\n",
      " [  60   38   22 1783   45 3201  140    3  857  164]\n",
      " [  55   21   25   28    5 1417 5295    1   24    5]\n",
      " [   3   93   32   23  368 1379    0 4864    8  523]\n",
      " [  42   73   36  915   77  674   24   13 4856  115]\n",
      " [  23   51   27   84 2774  678    1  126   63 3131]]\n",
      "Accuracy =  0.6207285714285714\n"
     ]
    }
   ],
   "source": [
    "mapping1, zdash1 = hungarian(best_z,y_bk,10)\n",
    "conf_matrix1 = confusion_matrix(y_bk,zdash1)\n",
    "acc = accuracy(zdash1,y_bk)\n",
    "\n",
    "print(\"Mapping:\", mapping1)\n",
    "print(\"Confusion Matrix:\")\n",
    "print(conf_matrix1)\n",
    "print(\"Accuracy = \", acc)"
   ]
  },
  {
   "cell_type": "code",
   "execution_count": 18,
   "metadata": {},
   "outputs": [
    {
     "data": {
      "text/plain": [
       "'\\n#Test kNN\\nX =  np.array([[0,0],[1,1],[2,2],[3,3],[4,4],[5,5],[6,6]])\\ny = np.array([1,1,1,0,0,0,1])\\n\\ntest = np.array([[-1,-1],[3.5,3.5]])\\n\\nmy_kNN = kNN(4,X,y)      \\npred = my_kNN.predict(test)\\n'"
      ]
     },
     "execution_count": 18,
     "metadata": {},
     "output_type": "execute_result"
    }
   ],
   "source": [
    "#k-NN\n",
    "class kNN(object):\n",
    "    \n",
    "    def __init__(self, k, X, y):\n",
    "        self.k = k\n",
    "        self.X = X\n",
    "        self.y = y\n",
    "        \n",
    "    def distance(self,a):\n",
    "        \"\"\"\n",
    "        a is 1xm, ie one data\n",
    "        distance returns X.shape[0] x 1 array with disatnces to each of the datapoints in X\n",
    "        \"\"\"\n",
    "        temp = np.array([a]*self.X.shape[0])\n",
    "        temp = temp-self.X\n",
    "        temp = np.multiply(temp,temp)\n",
    "        dist = np.sqrt(np.sum(temp, axis=1))\n",
    "        return dist\n",
    "\n",
    "        \n",
    "    def predict(self,test):\n",
    "        \"\"\"\n",
    "        test is nxm\n",
    "        \"\"\"\n",
    "        pred = np.zeros(test.shape[0])\n",
    "        for i in range(test.shape[0]):\n",
    "            row = test[i]\n",
    "            dist = self.distance(row)\n",
    "            #Append dist and y\n",
    "            dist_y = np.column_stack((dist,self.y))\n",
    "            dist_y = dist_y[np.argsort(dist_y[:,0])]\n",
    "            y_n = np.array(dist_y[0:self.k,1], dtype='int')\n",
    "            counts = np.bincount(y_n)\n",
    "            pred[i] = np.argmax(counts)\n",
    "            \n",
    "        return pred\n",
    "            \n",
    "\"\"\"\n",
    "#Test kNN\n",
    "X =  np.array([[0,0],[1,1],[2,2],[3,3],[4,4],[5,5],[6,6]])\n",
    "y = np.array([1,1,1,0,0,0,1])\n",
    "\n",
    "test = np.array([[-1,-1],[3.5,3.5]])\n",
    "\n",
    "my_kNN = kNN(4,X,y)      \n",
    "pred = my_kNN.predict(test)\n",
    "\"\"\""
   ]
  },
  {
   "cell_type": "code",
   "execution_count": 14,
   "metadata": {},
   "outputs": [],
   "source": [
    "#2d\n",
    "#Do PCA to get Xdash\n",
    "pca  = PCA(n_components=30)\n",
    "pca.fit(X)  \n",
    "Xdash = pca.transform(X)"
   ]
  },
  {
   "cell_type": "code",
   "execution_count": 13,
   "metadata": {},
   "outputs": [
    {
     "name": "stdout",
     "output_type": "stream",
     "text": [
      "Random Selection + kNN, k=1: Accuracy= 0.720901287553648\n",
      "Random Selection + kNN, k=3: Accuracy= 0.6713590844062947\n",
      "Random Selection + kNN, k=5: Accuracy= 0.6413876967095852\n"
     ]
    }
   ],
   "source": [
    "#2d - Random selection  + kNN\n",
    "\n",
    "#Get 100 points from Xdash, random selection\n",
    "ind = np.random.randint(Xdash.shape[0], size=100)\n",
    "trainX_knn = Xdash[ind]\n",
    "trainy_knn = y[ind]\n",
    "\n",
    "testX_knn = np.delete(Xdash,ind, axis=0)\n",
    "testy_knn_true = np.delete(y, ind)\n",
    "\n",
    "#Do kNN on those 100 points\n",
    "\n",
    "#k=1\n",
    "mykNN = kNN(1,trainX_knn, trainy_knn)\n",
    "#Test accuracy on the remaining 69900 points\n",
    "pred = mykNN.predict(testX_knn)\n",
    "#accuracy\n",
    "acc = accuracy(pred, testy_knn_true)\n",
    "print(\"Random Selection + kNN, k=1: Accuracy=\", acc)\n",
    "\n",
    "#k=3\n",
    "mykNN = kNN(3,trainX_knn, trainy_knn)\n",
    "#Test accuracy on the remaining 69900 points\n",
    "pred = mykNN.predict(testX_knn)\n",
    "#accuracy\n",
    "acc = accuracy(pred, testy_knn_true)\n",
    "print(\"Random Selection + kNN, k=3: Accuracy=\", acc)\n",
    "     \n",
    "            \n",
    "#k=5\n",
    "mykNN = kNN(5,trainX_knn, trainy_knn)\n",
    "#Test accuracy on the remaining 69900 points\n",
    "pred = mykNN.predict(testX_knn)\n",
    "#accuracy\n",
    "acc = accuracy(pred, testy_knn_true)\n",
    "print(\"Random Selection + kNN, k=5: Accuracy=\", acc) "
   ]
  },
  {
   "cell_type": "code",
   "execution_count": 36,
   "metadata": {},
   "outputs": [
    {
     "name": "stdout",
     "output_type": "stream",
     "text": [
      "Final J= 7661007.948906397\n",
      "Final J= 7680293.106257867\n",
      "Final J= 7684769.557073417\n"
     ]
    },
    {
     "name": "stderr",
     "output_type": "stream",
     "text": [
      "C:\\Users\\vinee\\Anaconda3\\lib\\site-packages\\ipykernel_launcher.py:29: RuntimeWarning: invalid value encountered in true_divide\n"
     ]
    },
    {
     "name": "stdout",
     "output_type": "stream",
     "text": [
      "Final J= 22686659.30868819\n",
      "Final J= 7659409.395387609\n",
      "Final J= 7663865.343802184\n",
      "Final J= 22686659.30868819\n",
      "Final J= 7683019.598066069\n",
      "Final J= 7653528.55860144\n",
      "Final J= 7663081.353790393\n",
      "Kmeans(K=100) + kNN(k=1): Accuracy= 0.8183834048640916\n",
      "Kmeans(K=100) + kNN(k=3): Accuracy= 0.771587982832618\n",
      "Kmeans(K=100) + kNN(k=5): Accuracy= 0.7500715307582261\n"
     ]
    }
   ],
   "source": [
    "#########################################################################\n",
    "#2d Kmeans+kNN\n",
    "########################################################################\n",
    "#Get 100 points using Kmeans      \n",
    "z,Co,J = Kmeans_multipleTries(Xdash, K=100, num_tries=10)\n",
    "\n",
    "#Find the 100 points, closest to each of the centroids\n",
    "ind = np.zeros(100, dtype=int)\n",
    "for i in range(Co.shape[0]):\n",
    "    c = Co[i]\n",
    "    temp = np.array([c]*Xdash.shape[0])\n",
    "    temp = temp-Xdash\n",
    "    temp = np.multiply(temp,temp)\n",
    "    dist = np.sqrt(np.sum(temp, axis=1))\n",
    "    ind[i] = np.argmin(dist)\n",
    "    \n",
    "trainX_knn = Xdash[ind]\n",
    "trainy_knn = y[ind]\n",
    "\n",
    "testX_knn = np.delete(Xdash,ind, axis=0)\n",
    "testy_knn_true = np.delete(y, ind)\n",
    "\n",
    "    \n",
    "#Do kNN on those 100 points\n",
    "#k=1\n",
    "mykNN = kNN(1,trainX_knn, trainy_knn)\n",
    "#Test accuracy on the remaining 69900 points\n",
    "pred = mykNN.predict(testX_knn)\n",
    "#accuracy\n",
    "acc = accuracy(pred, testy_knn_true)\n",
    "print(\"Kmeans(K=100) + kNN(k=1): Accuracy=\", acc) \n",
    "\n",
    "#k=3\n",
    "mykNN = kNN(3,trainX_knn, trainy_knn)\n",
    "#Test accuracy on the remaining 69900 points\n",
    "pred = mykNN.predict(testX_knn)\n",
    "#accuracy\n",
    "acc = accuracy(pred, testy_knn_true)\n",
    "print(\"Kmeans(K=100) + kNN(k=3): Accuracy=\", acc)\n",
    "\n",
    "#k=1\n",
    "mykNN = kNN(5,trainX_knn, trainy_knn)\n",
    "#Test accuracy on the remaining 69900 points\n",
    "pred = mykNN.predict(testX_knn)\n",
    "#accuracy\n",
    "acc = accuracy(pred, testy_knn_true)\n",
    "print(\"Kmeans(K=100) + kNN(k=5): Accuracy=\", acc)"
   ]
  },
  {
   "cell_type": "code",
   "execution_count": 23,
   "metadata": {},
   "outputs": [
    {
     "name": "stdout",
     "output_type": "stream",
     "text": [
      "sigma= 10.825424107948928\n"
     ]
    },
    {
     "name": "stderr",
     "output_type": "stream",
     "text": [
      "C:\\Users\\vinee\\Anaconda3\\lib\\site-packages\\scipy\\sparse\\_index.py:126: SparseEfficiencyWarning: Changing the sparsity structure of a csr_matrix is expensive. lil_matrix is more efficient.\n",
      "  self._set_arrayXarray(i, j, x)\n"
     ]
    },
    {
     "name": "stdout",
     "output_type": "stream",
     "text": [
      "eigen values: [3.74282684e-19+0.j 4.36824110e-07+0.j 4.99618676e-07+0.j\n",
      " 7.28040650e-07+0.j 7.78866138e-07+0.j 8.22790696e-07+0.j\n",
      " 8.61423672e-07+0.j 9.23190650e-07+0.j 9.34264143e-07+0.j\n",
      " 1.09787716e-06+0.j 1.29459162e-06+0.j 1.47518332e-06+0.j\n",
      " 1.53708515e-06+0.j 1.62093685e-06+0.j 1.65360044e-06+0.j\n",
      " 1.69401986e-06+0.j 1.86826141e-06+0.j 2.07302349e-06+0.j\n",
      " 2.28900422e-06+0.j 2.36696271e-06+0.j]\n",
      "K Means Trial0: Objective=5178.729735290092, max_iter=300\n",
      "K Means Trial1: Objective=5169.577888981079, max_iter=300\n",
      "K Means Trial2: Objective=5177.426316396795, max_iter=300\n",
      "K Means Trial3: Objective=5174.3791031536275, max_iter=300\n",
      "K Means Trial4: Objective=5184.910364939011, max_iter=300\n",
      "K Means Trial5: Objective=5182.939286265331, max_iter=300\n",
      "K Means Trial6: Objective=5178.307500452593, max_iter=300\n",
      "K Means Trial7: Objective=5183.132453868287, max_iter=300\n",
      "K Means Trial8: Objective=5173.127132371928, max_iter=300\n",
      "K Means Trial9: Objective=5180.227828797855, max_iter=300\n"
     ]
    }
   ],
   "source": [
    "############################################################\n",
    "# 2d: Clustering + KNN\n",
    "############################################################\n",
    "\n",
    "#Get 100 points using Spectral Clustering\n",
    "z, Co, J,U = SpectralClustering(Xdash,K=100, n_neighbours=500, k=20)\n",
    "\n",
    "\n"
   ]
  },
  {
   "cell_type": "code",
   "execution_count": 24,
   "metadata": {},
   "outputs": [
    {
     "data": {
      "text/plain": [
       "(100, 19)"
      ]
     },
     "execution_count": 24,
     "metadata": {},
     "output_type": "execute_result"
    }
   ],
   "source": [
    "Co.shape"
   ]
  },
  {
   "cell_type": "code",
   "execution_count": 25,
   "metadata": {},
   "outputs": [
    {
     "name": "stderr",
     "output_type": "stream",
     "text": [
      "C:\\Users\\vinee\\Anaconda3\\lib\\site-packages\\ipykernel_launcher.py:32: ComplexWarning: Casting complex values to real discards the imaginary part\n"
     ]
    },
    {
     "name": "stdout",
     "output_type": "stream",
     "text": [
      "Spectral + kNN(k=1): Accuracy= 0.8249785407725322\n",
      "Spectral + kNN(k=3): Accuracy= 0.8171530758226038\n",
      "Spectral + kNN(k=5): Accuracy= 0.8005436337625179\n"
     ]
    }
   ],
   "source": [
    "\n",
    "#Find the 100 points, closest to each of the centroids\n",
    "ind = np.zeros(100, dtype=int)\n",
    "for i in range(Co.shape[0]):\n",
    "    c = Co[i]\n",
    "    temp = np.array([c]*U.shape[0])\n",
    "    temp = temp-U\n",
    "    temp = np.multiply(temp,temp)\n",
    "    dist = np.sqrt(np.sum(temp, axis=1))\n",
    "    ind[i] = np.argmin(dist)\n",
    "    \n",
    "trainX_knn = U[ind]\n",
    "trainy_knn = y[ind]\n",
    "\n",
    "testX_knn = np.delete(U,ind, axis=0)\n",
    "testy_knn_true = np.delete(y, ind)\n",
    "\n",
    "#Do kNN on those 100 points\n",
    "#k=1\n",
    "mykNN = kNN(1,trainX_knn, trainy_knn)\n",
    "#Test accuracy on the remaining 69900 points\n",
    "pred = mykNN.predict(testX_knn)\n",
    "#accuracy\n",
    "acc = accuracy(pred, testy_knn_true)\n",
    "print(\"Spectral + kNN(k=1): Accuracy=\", acc) \n",
    "\n",
    "#k=3\n",
    "mykNN = kNN(3,trainX_knn, trainy_knn)\n",
    "#Test accuracy on the remaining 69900 points\n",
    "pred = mykNN.predict(testX_knn)\n",
    "#accuracy\n",
    "acc = accuracy(pred, testy_knn_true)\n",
    "print(\"Spectral + kNN(k=3): Accuracy=\", acc)\n",
    "\n",
    "#k=1\n",
    "mykNN = kNN(5,trainX_knn, trainy_knn)\n",
    "#Test accuracy on the remaining 69900 points\n",
    "pred = mykNN.predict(testX_knn)\n",
    "#accuracy\n",
    "acc = accuracy(pred, testy_knn_true)\n",
    "print(\"Spectral + kNN(k=5): Accuracy=\", acc)"
   ]
  },
  {
   "cell_type": "code",
   "execution_count": 66,
   "metadata": {},
   "outputs": [
    {
     "data": {
      "text/plain": [
       "array([22254, 24140,  3381, 31960, 38065, 37576, 61075, 42792, 44353,\n",
       "        2791,  6697, 31739, 21846, 45523,    26, 39978, 11807, 22068,\n",
       "       17122, 33537, 66204, 12786, 23741,  9386, 33049, 11798, 32961,\n",
       "       65175, 13385, 43764, 29218, 27404, 48068,  6787, 38384, 29042,\n",
       "       19013,  3444, 42650,   217, 40779, 59846, 37773, 48834, 64456,\n",
       "       54001, 63782, 57238, 64362, 35310, 23433, 52998, 19028, 52322,\n",
       "       66045, 20725,  3448, 45582, 67209, 45192, 12625, 32991, 14367,\n",
       "       31352, 13644, 17573, 14513,  3107, 56481,  2760, 14326,  1018,\n",
       "       54268,  5939, 41401, 47196,  5568, 56467, 14496, 49167, 49206,\n",
       "       30387,  3441, 35970, 42519, 53236, 39576,   419, 36122, 58302,\n",
       "       57123,  3623, 60129, 58642, 10500, 41730, 20518, 45859, 38746,\n",
       "       19012])"
      ]
     },
     "execution_count": 66,
     "metadata": {},
     "output_type": "execute_result"
    }
   ],
   "source": [
    "ind"
   ]
  },
  {
   "cell_type": "code",
   "execution_count": 59,
   "metadata": {},
   "outputs": [
    {
     "data": {
      "text/plain": [
       "array([[ 0.2002279 ,  0.20198487,  0.03255339, ..., -0.1071951 ,\n",
       "         0.23571432,  0.00560531],\n",
       "       [-0.16243327, -0.06561729, -0.03930195, ...,  0.03929089,\n",
       "        -0.16720723, -0.03404421],\n",
       "       [ 0.30101349,  0.30184853,  0.07057782, ..., -0.29845742,\n",
       "        -0.05138567, -0.022496  ],\n",
       "       ...,\n",
       "       [ 0.37042895, -0.46557326, -0.02571536, ..., -0.00764065,\n",
       "         0.00717715,  0.00600808],\n",
       "       [ 0.21114732,  0.44322426,  0.08912704, ...,  0.25383068,\n",
       "         0.09085669,  0.00703562],\n",
       "       [-0.0213168 ,  0.10416908,  0.01870799, ..., -0.35174741,\n",
       "        -0.03818356, -0.03543201]])"
      ]
     },
     "execution_count": 59,
     "metadata": {},
     "output_type": "execute_result"
    }
   ],
   "source": [
    "Co\n"
   ]
  },
  {
   "cell_type": "code",
   "execution_count": null,
   "metadata": {},
   "outputs": [],
   "source": []
  }
 ],
 "metadata": {
  "kernelspec": {
   "display_name": "Python 3",
   "language": "python",
   "name": "python3"
  },
  "language_info": {
   "codemirror_mode": {
    "name": "ipython",
    "version": 3
   },
   "file_extension": ".py",
   "mimetype": "text/x-python",
   "name": "python",
   "nbconvert_exporter": "python",
   "pygments_lexer": "ipython3",
   "version": "3.7.4"
  }
 },
 "nbformat": 4,
 "nbformat_minor": 2
}
